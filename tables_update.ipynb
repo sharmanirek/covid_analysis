{
 "cells": [
  {
   "cell_type": "markdown",
   "metadata": {},
   "source": [
    "# Updating the raw table to have all the historical data"
   ]
  },
  {
   "cell_type": "markdown",
   "metadata": {},
   "source": [
    "Installing Requirements"
   ]
  },
  {
   "cell_type": "code",
   "execution_count": 3,
   "metadata": {
    "collapsed": true
   },
   "outputs": [
    {
     "name": "stdout",
     "output_type": "stream",
     "text": [
      "Collecting pymc3\n",
      "  Downloading https://files.pythonhosted.org/packages/32/19/6c94cbadb287745ac38ff1197b9fadd66500b6b9c468e79099b110c6a2e9/pymc3-3.8-py3-none-any.whl (908kB)\n",
      "Requirement already satisfied: tqdm>=4.8.4 in /opt/conda/lib/python3.7/site-packages (from pymc3) (4.32.2)\n",
      "Requirement already satisfied: pandas>=0.18.0 in /opt/conda/lib/python3.7/site-packages (from pymc3) (0.25.1)\n",
      "Requirement already satisfied: numpy>=1.13.0 in /opt/conda/lib/python3.7/site-packages (from pymc3) (1.17.2)\n",
      "Requirement already satisfied: patsy>=0.4.0 in /opt/conda/lib/python3.7/site-packages (from pymc3) (0.5.1)\n",
      "Collecting arviz>=0.4.1 (from pymc3)\n",
      "  Downloading https://files.pythonhosted.org/packages/6c/23/73ae3b88a6837fa5a162d984acabfd2e75dc847ed67e5690aa44d02f491a/arviz-0.7.0-py3-none-any.whl (1.5MB)\n",
      "Collecting theano>=1.0.4 (from pymc3)\n",
      "  Downloading https://files.pythonhosted.org/packages/7d/c4/6341148ad458b6cd8361b774d7ee6895c38eab88f05331f22304c484ed5d/Theano-1.0.4.tar.gz (2.8MB)\n",
      "Requirement already satisfied: scipy>=0.18.1 in /opt/conda/lib/python3.7/site-packages (from pymc3) (1.3.1)\n",
      "Requirement already satisfied: h5py>=2.7.0 in /opt/conda/lib/python3.7/site-packages (from pymc3) (2.9.0)\n",
      "Requirement already satisfied: pytz>=2017.2 in /opt/conda/lib/python3.7/site-packages (from pandas>=0.18.0->pymc3) (2019.2)\n",
      "Requirement already satisfied: python-dateutil>=2.6.1 in /opt/conda/lib/python3.7/site-packages (from pandas>=0.18.0->pymc3) (2.8.0)\n",
      "Requirement already satisfied: six in /opt/conda/lib/python3.7/site-packages (from patsy>=0.4.0->pymc3) (1.12.0)\n",
      "Requirement already satisfied: packaging in /opt/conda/lib/python3.7/site-packages (from arviz>=0.4.1->pymc3) (19.0)\n",
      "Collecting xarray>=0.11 (from arviz>=0.4.1->pymc3)\n",
      "  Downloading https://files.pythonhosted.org/packages/ee/11/fb2a8a6015e3de4ff19a4870bb0d11f48ebdd997062557d24cd076b3088f/xarray-0.15.1-py3-none-any.whl (668kB)\n",
      "Requirement already satisfied: matplotlib>=3.0 in /opt/conda/lib/python3.7/site-packages (from arviz>=0.4.1->pymc3) (3.1.1)\n",
      "Collecting netcdf4 (from arviz>=0.4.1->pymc3)\n",
      "  Downloading https://files.pythonhosted.org/packages/bf/da/79d6762e0ef66f913249684122d567bddfada6b83cdf9e96c82550fd2d14/netCDF4-1.5.3-cp37-cp37m-manylinux1_x86_64.whl (4.1MB)\n",
      "Requirement already satisfied: pyparsing>=2.0.2 in /opt/conda/lib/python3.7/site-packages (from packaging->arviz>=0.4.1->pymc3) (2.4.2)\n",
      "Collecting setuptools>=41.2 (from xarray>=0.11->arviz>=0.4.1->pymc3)\n",
      "  Downloading https://files.pythonhosted.org/packages/a0/df/635cdb901ee4a8a42ec68e480c49f85f4c59e8816effbf57d9e6ee8b3588/setuptools-46.1.3-py3-none-any.whl (582kB)\n",
      "Requirement already satisfied: kiwisolver>=1.0.1 in /opt/conda/lib/python3.7/site-packages (from matplotlib>=3.0->arviz>=0.4.1->pymc3) (1.1.0)\n",
      "Requirement already satisfied: cycler>=0.10 in /opt/conda/lib/python3.7/site-packages (from matplotlib>=3.0->arviz>=0.4.1->pymc3) (0.10.0)\n",
      "Collecting cftime (from netcdf4->arviz>=0.4.1->pymc3)\n",
      "  Downloading https://files.pythonhosted.org/packages/34/18/6b396311707d84206f85ac45331b9cfe9173c6b103de7faccb443522ec6d/cftime-1.1.1.2-cp37-cp37m-manylinux1_x86_64.whl (327kB)\n",
      "Building wheels for collected packages: theano\n",
      "  Building wheel for theano (setup.py): started\n",
      "  Building wheel for theano (setup.py): finished with status 'done'\n",
      "  Created wheel for theano: filename=Theano-1.0.4-cp37-none-any.whl size=2667178 sha256=9f4cf2ea088477af37e7f8844b44d13abc546cb9ceec8b9cd63a1680699b988f\n",
      "  Stored in directory: /home/jovyan/.cache/pip/wheels/88/fb/be/483910ff7e9f703f30a10605ad7605f3316493875c86637014\n",
      "Successfully built theano\n",
      "Installing collected packages: setuptools, xarray, cftime, netcdf4, arviz, theano, pymc3\n",
      "  Found existing installation: setuptools 41.0.1\n",
      "    Uninstalling setuptools-41.0.1:\n",
      "      Successfully uninstalled setuptools-41.0.1\n",
      "Successfully installed arviz-0.7.0 cftime-1.1.1.2 netcdf4-1.5.3 pymc3-3.8 setuptools-46.1.3 theano-1.0.4 xarray-0.15.1\n"
     ]
    }
   ],
   "source": [
    "%%sh \n",
    "pip install pymc3"
   ]
  },
  {
   "cell_type": "markdown",
   "metadata": {},
   "source": [
    "Importing Requirements"
   ]
  },
  {
   "cell_type": "code",
   "execution_count": 37,
   "metadata": {
    "scrolled": false
   },
   "outputs": [
    {
     "data": {
      "text/html": [
       "\n",
       "        <script>\n",
       "            function code_toggle_617904103118810729() {\n",
       "                $('div.cell.code_cell.rendered.selected').find('div.input').toggle();\n",
       "            }\n",
       "\n",
       "            \n",
       "        </script>\n",
       "\n",
       "        <a href=\"javascript:code_toggle_617904103118810729()\"><button style='color:black'>Toggle show/hide</button></a>\n",
       "    "
      ],
      "text/plain": [
       "<IPython.core.display.HTML object>"
      ]
     },
     "execution_count": 37,
     "metadata": {},
     "output_type": "execute_result"
    }
   ],
   "source": [
    "%matplotlib inline\n",
    "\n",
    "import pandas as pd\n",
    "import numpy as np\n",
    "import matplotlib\n",
    "import matplotlib.pyplot as plt\n",
    "import seaborn as sns;sns.set()\n",
    "from IPython.core.pylabtools import figsize\n",
    "\n",
    "import requests \n",
    "pd.options.display.max_rows = 999\n",
    "import io\n",
    "from datetime import datetime\n",
    "\n",
    "# PyMC3 for Bayesian Inference\n",
    "import pymc3 as pm\n",
    "\n",
    "import scipy\n",
    "from scipy import stats\n",
    "from scipy.stats import percentileofscore\n",
    "\n",
    "# Standard ML Models for comparison\n",
    "from sklearn.linear_model import LinearRegression\n",
    "from sklearn.linear_model import ElasticNet\n",
    "from sklearn.ensemble import RandomForestRegressor\n",
    "from sklearn.ensemble import ExtraTreesRegressor\n",
    "from sklearn.ensemble import GradientBoostingRegressor\n",
    "from sklearn.svm import SVR\n",
    "from sklearn.model_selection import train_test_split\n",
    "from sklearn.preprocessing import MinMaxScaler\n",
    "from sklearn.metrics import mean_squared_error, mean_absolute_error, median_absolute_error\n",
    "\n",
    "np.random.seed(42)\n",
    "matplotlib.rcParams['font.size'] = 16\n",
    "matplotlib.rcParams['figure.figsize'] = (9, 9)\n",
    "\n",
    "# Importing Utilities \n",
    "from utils import *\n",
    "from importlib import reload\n",
    "\n",
    "hide_toggle()\n"
   ]
  },
  {
   "cell_type": "markdown",
   "metadata": {},
   "source": [
    "Starting Spark Session"
   ]
  },
  {
   "cell_type": "code",
   "execution_count": 6,
   "metadata": {},
   "outputs": [
    {
     "data": {
      "text/html": [
       "\n",
       "        <script>\n",
       "            function code_toggle_15900619450216858662() {\n",
       "                $('div.cell.code_cell.rendered.selected').find('div.input').toggle();\n",
       "            }\n",
       "\n",
       "            \n",
       "        </script>\n",
       "\n",
       "        <a href=\"javascript:code_toggle_15900619450216858662()\"><button style='color:black'>Toggle show/hide</button></a>\n",
       "    "
      ],
      "text/plain": [
       "<IPython.core.display.HTML object>"
      ]
     },
     "execution_count": 6,
     "metadata": {},
     "output_type": "execute_result"
    }
   ],
   "source": [
    "# setup-- \n",
    "import pandas as pd\n",
    "import numpy as np\n",
    "\n",
    "import pyspark\n",
    "from pyspark import SQLContext\n",
    "from pyspark.conf import SparkConf\n",
    "from pyspark.sql import SparkSession\n",
    "from pyspark.ml.regression import LinearRegression\n",
    "from pyspark.ml.feature import StandardScaler, VectorAssembler\n",
    "from pyspark.ml import Pipeline\n",
    "from pyspark.sql import SparkSession\n",
    "from pyspark.sql import functions as F\n",
    "from pyspark.sql.window import Window\n",
    "from pyspark.ml.classification import RandomForestClassifier\n",
    "from pyspark.ml.feature import IndexToString, StringIndexer\n",
    "\n",
    "spark = SparkSession.builder.getOrCreate()\n",
    "sqlCtx = spark._wrapped\n",
    "\n",
    "hide_toggle()"
   ]
  },
  {
   "cell_type": "markdown",
   "metadata": {},
   "source": [
    "Starting Splice Context"
   ]
  },
  {
   "cell_type": "code",
   "execution_count": 8,
   "metadata": {},
   "outputs": [
    {
     "name": "stdout",
     "output_type": "stream",
     "text": [
      "Tracking Model Metadata on MLFlow Server @ http://splicedb-mlflow-0.splicedb-mlflow.mldemo.svc.cluster.local:5001\n"
     ]
    },
    {
     "data": {
      "text/html": [
       "\n",
       "        <script>\n",
       "            function code_toggle_1860929451755093495() {\n",
       "                $('div.cell.code_cell.rendered.selected').find('div.input').toggle();\n",
       "            }\n",
       "\n",
       "            \n",
       "        </script>\n",
       "\n",
       "        <a href=\"javascript:code_toggle_1860929451755093495()\"><button style='color:black'>Toggle show/hide</button></a>\n",
       "    "
      ],
      "text/plain": [
       "<IPython.core.display.HTML object>"
      ]
     },
     "execution_count": 8,
     "metadata": {},
     "output_type": "execute_result"
    }
   ],
   "source": [
    "from splicemachine.spark.context import PySpliceContext\n",
    "from splicemachine.ml.management import MLManager\n",
    "\n",
    "splice=PySpliceContext(spark)\n",
    "manager = MLManager(splice)\n",
    "\n",
    "hide_toggle()"
   ]
  },
  {
   "cell_type": "code",
   "execution_count": 38,
   "metadata": {},
   "outputs": [],
   "source": [
    "us_daily = pd.DataFrame.from_dict(requests.get('https://covidtracking.com/api/us/daily').json())\n",
    "states = pd.DataFrame.from_dict(requests.get('https://covidtracking.com/api/states').json())\n",
    "states_daily = pd.DataFrame.from_dict(requests.get('https://covidtracking.com/api/states/daily').json())"
   ]
  },
  {
   "cell_type": "code",
   "execution_count": 39,
   "metadata": {
    "scrolled": true
   },
   "outputs": [],
   "source": [
    "states_daily_spark = sqlCtx.createDataFrame(states_daily)"
   ]
  },
  {
   "cell_type": "code",
   "execution_count": 40,
   "metadata": {
    "collapsed": true
   },
   "outputs": [
    {
     "name": "stdout",
     "output_type": "stream",
     "text": [
      "root\n",
      " |-- date: long (nullable = true)\n",
      " |-- state: string (nullable = true)\n",
      " |-- positive: double (nullable = true)\n",
      " |-- negative: double (nullable = true)\n",
      " |-- pending: double (nullable = true)\n",
      " |-- hospitalized: double (nullable = true)\n",
      " |-- death: double (nullable = true)\n",
      " |-- total: long (nullable = true)\n",
      " |-- dateChecked: string (nullable = true)\n",
      " |-- totalTestResults: long (nullable = true)\n",
      " |-- deathIncrease: double (nullable = true)\n",
      " |-- hospitalizedIncrease: double (nullable = true)\n",
      " |-- negativeIncrease: double (nullable = true)\n",
      " |-- positiveIncrease: double (nullable = true)\n",
      " |-- totalTestResultsIncrease: double (nullable = true)\n",
      "\n",
      "+--------+-----+--------+--------+-------+------------+-----+-----+--------------------+----------------+-------------+--------------------+----------------+----------------+------------------------+\n",
      "|    date|state|positive|negative|pending|hospitalized|death|total|         dateChecked|totalTestResults|deathIncrease|hospitalizedIncrease|negativeIncrease|positiveIncrease|totalTestResultsIncrease|\n",
      "+--------+-----+--------+--------+-------+------------+-----+-----+--------------------+----------------+-------------+--------------------+----------------+----------------+------------------------+\n",
      "|20200326|   AK|    59.0|  1801.0|   null|         3.0|  1.0| 1860|2020-03-26T20:00:00Z|            1860|          0.0|                 2.0|           152.0|            17.0|                   169.0|\n",
      "|20200326|   AL|   506.0|  3593.0|   null|        null|  1.0| 4099|2020-03-26T20:00:00Z|            4099|          1.0|                 0.0|          1064.0|           223.0|                  1287.0|\n",
      "|20200326|   AR|   335.0|  1504.0|    0.0|        41.0|  3.0| 1839|2020-03-26T20:00:00Z|            1839|          1.0|                19.0|            67.0|            55.0|                   122.0|\n",
      "|20200326|   AS|     0.0|    null|   null|        null|  0.0|    0|2020-03-26T20:00:00Z|               0|          0.0|                 0.0|             0.0|             0.0|                     0.0|\n",
      "|20200326|   AZ|   577.0|   347.0|   33.0|        66.0|  8.0|  957|2020-03-26T20:00:00Z|             924|          2.0|                58.0|            24.0|           127.0|                   151.0|\n",
      "|20200326|   CA|  3006.0| 17380.0|57400.0|        null| 65.0|77786|2020-03-26T20:00:00Z|           20386|         12.0|                 0.0|          1459.0|           651.0|                  2110.0|\n",
      "|20200326|   CO|  1086.0|  6978.0|   null|       148.0| 19.0| 8064|2020-03-26T20:00:00Z|            8064|          8.0|                64.0|           189.0|           174.0|                   363.0|\n",
      "|20200326|   CT|  1012.0|  5625.0|   null|       125.0| 21.0| 6637|2020-03-26T20:00:00Z|            6637|          2.0|                12.0|           602.0|           137.0|                   739.0|\n",
      "|20200326|   DC|   231.0|  1626.0|    1.0|        null|  3.0| 1858|2020-03-26T20:00:00Z|            1857|          1.0|                 0.0|           203.0|            48.0|                   251.0|\n",
      "|20200326|   DE|   130.0|    36.0|   null|        13.0|  1.0|  166|2020-03-26T20:00:00Z|             166|          1.0|                 2.0|             0.0|            15.0|                    15.0|\n",
      "|20200326|   FL|  2355.0| 23741.0| 1443.0|       406.0| 28.0|27539|2020-03-26T20:00:00Z|           26096|          6.0|                90.0|          8367.0|           673.0|                  9040.0|\n",
      "|20200326|   GA|  1525.0|  7401.0|   null|       473.0| 48.0| 8926|2020-03-26T20:00:00Z|            8926|          8.0|                79.0|          2469.0|           278.0|                  2747.0|\n",
      "|20200326|   GU|    45.0|   263.0|   null|        11.0|  1.0|  308|2020-03-26T20:00:00Z|             308|          0.0|                 1.0|            30.0|             8.0|                    38.0|\n",
      "|20200326|   HI|    95.0|  4357.0|   null|         5.0| null| 4452|2020-03-26T20:00:00Z|            4452|          0.0|                -1.0|             0.0|             5.0|                     5.0|\n",
      "|20200326|   IA|   179.0|  2578.0|   null|        46.0|  1.0| 2757|2020-03-26T20:00:00Z|            2757|          0.0|                10.0|             0.0|            34.0|                    34.0|\n",
      "|20200326|   ID|   123.0|  2065.0|   null|        null|  0.0| 2188|2020-03-26T20:00:00Z|            2188|          0.0|                 0.0|           178.0|            50.0|                   228.0|\n",
      "|20200326|   IL|  2538.0| 14093.0|   null|        null| 26.0|16631|2020-03-26T20:00:00Z|           16631|          7.0|                 0.0|          1749.0|           673.0|                  2422.0|\n",
      "|20200326|   IN|   645.0|  4006.0|   null|        null| 17.0| 4651|2020-03-26T20:00:00Z|            4651|          3.0|                 0.0|          1127.0|           168.0|                  1295.0|\n",
      "|20200326|   KS|   168.0|  2869.0|   null|        null|  3.0| 3037|2020-03-26T20:00:00Z|            3037|          0.0|                 0.0|           509.0|            42.0|                   551.0|\n",
      "|20200326|   KY|   198.0|  3102.0|   null|        null|  4.0| 3300|2020-03-26T20:00:00Z|            3300|          0.0|                 0.0|           237.0|            41.0|                   278.0|\n",
      "+--------+-----+--------+--------+-------+------------+-----+-----+--------------------+----------------+-------------+--------------------+----------------+----------------+------------------------+\n",
      "only showing top 20 rows\n",
      "\n"
     ]
    }
   ],
   "source": [
    "def set_df_columns_nullable(df, column_list, nullable=True):\n",
    "    for struct_field in df.schema:\n",
    "        if struct_field.name in column_list:\n",
    "            struct_field.nullable = nullable\n",
    "    df_mod = spark.createDataFrame(df.rdd, df.schema)\n",
    "    return df_mod\n",
    "\n",
    "def replace(column):\n",
    "    return F.when(column != np.nan, column).otherwise(F.lit(None))\n",
    "\n",
    "states_daily_spark = set_df_columns_nullable(states_daily_spark,states_daily_spark.columns)\n",
    "\n",
    "for _col,_type in states_daily_spark.dtypes:\n",
    "    if _col in ['state','dateChecked']:\n",
    "        continue\n",
    "    else:\n",
    "        states_daily_spark = states_daily_spark.withColumn(_col, replace(F.col(_col)))\n",
    "        \n",
    "\n",
    "states_daily_spark.printSchema()\n",
    "states_daily_spark.show()"
   ]
  },
  {
   "cell_type": "code",
   "execution_count": 41,
   "metadata": {
    "scrolled": true
   },
   "outputs": [
    {
     "name": "stdout",
     "output_type": "stream",
     "text": [
      "Droping table COVID.TEMP\n",
      "CREATE TABLE COVID.TEMP(\n",
      "DATE BIGINT,\n",
      "STATE VARCHAR(5000),\n",
      "POSITIVE DOUBLE,\n",
      "NEGATIVE DOUBLE,\n",
      "PENDING DOUBLE,\n",
      "HOSPITALIZED DOUBLE,\n",
      "DEATH DOUBLE,\n",
      "TOTAL BIGINT,\n",
      "DATECHECKED VARCHAR(5000),\n",
      "TOTALTESTRESULTS BIGINT,\n",
      "DEATHINCREASE DOUBLE,\n",
      "HOSPITALIZEDINCREASE DOUBLE,\n",
      "NEGATIVEINCREASE DOUBLE,\n",
      "POSITIVEINCREASE DOUBLE,\n",
      "TOTALTESTRESULTSINCREASE DOUBLE)\n"
     ]
    }
   ],
   "source": [
    "splice.createTable(states_daily_spark,'COVID.TEMP',drop_table = True)\n",
    "splice.insert(states_daily_spark,'COVID.TEMP')"
   ]
  },
  {
   "cell_type": "code",
   "execution_count": 42,
   "metadata": {},
   "outputs": [
    {
     "data": {
      "application/vnd.jupyter.widget-view+json": {
       "model_id": "0a147617-9201-4f10-ae4f-2b916ad478e3",
       "version_major": 2,
       "version_minor": 0
      },
      "method": "display_data"
     },
     "metadata": {},
     "output_type": "display_data"
    },
    {
     "data": {
      "application/vnd.jupyter.widget-view+json": {
       "model_id": "26507d75-d7ab-429b-b421-20a7eab2bc23",
       "version_major": 2,
       "version_minor": 0
      },
      "method": "display_data"
     },
     "metadata": {},
     "output_type": "display_data"
    },
    {
     "data": {
      "application/vnd.jupyter.widget-view+json": {
       "model_id": "11061e04-dc3e-44ba-90d7-9086a06c0477",
       "version_major": 2,
       "version_minor": 0
      },
      "method": "display_data"
     },
     "metadata": {},
     "output_type": "display_data"
    }
   ],
   "source": [
    "%%sql \n",
    "DROP TABLE IF EXISTS COVID.RAW_DATA;\n",
    "\n",
    "CREATE TABLE COVID.RAW_DATA AS SELECT * FROM COVID.TEMP;\n",
    "\n",
    "SELECT COUNT(*) FROM COVID.RAW_DATA;"
   ]
  },
  {
   "cell_type": "code",
   "execution_count": 43,
   "metadata": {},
   "outputs": [
    {
     "data": {
      "text/plain": [
       "Query executed successfully. Affected rows : 0"
      ]
     },
     "execution_count": 10,
     "metadata": {},
     "output_type": "execute_result"
    }
   ],
   "source": [
    "%%sql \n",
    "DROP TABLE COVID.TEMP;"
   ]
  },
  {
   "cell_type": "code",
   "execution_count": 44,
   "metadata": {
    "scrolled": true
   },
   "outputs": [
    {
     "data": {
      "application/vnd.jupyter.widget-view+json": {
       "model_id": "8505dff9-bf6a-43d8-b439-d586628d8dda",
       "version_major": 2,
       "version_minor": 0
      },
      "method": "display_data"
     },
     "metadata": {},
     "output_type": "display_data"
    }
   ],
   "source": [
    "%%sql \n",
    "SELECT * FROM COVID.RAW_DATA"
   ]
  },
  {
   "cell_type": "code",
   "execution_count": null,
   "metadata": {},
   "outputs": [],
   "source": []
  }
 ],
 "metadata": {
  "kernelspec": {
   "display_name": "Python 3",
   "language": "python",
   "name": "python3"
  },
  "language_info": {
   "codemirror_mode": {
    "name": "ipython",
    "version": 3
   },
   "file_extension": ".py",
   "mimetype": "text/x-python",
   "name": "python",
   "nbconvert_exporter": "python",
   "pygments_lexer": "ipython3",
   "version": "3.7.3"
  },
  "toc": {
   "base_numbering": 1,
   "nav_menu": {},
   "number_sections": false,
   "sideBar": false,
   "skip_h1_title": false,
   "title_cell": "Table of Contents",
   "title_sidebar": "Contents",
   "toc_cell": false,
   "toc_position": {},
   "toc_section_display": false,
   "toc_window_display": false
  }
 },
 "nbformat": 4,
 "nbformat_minor": 2
}
