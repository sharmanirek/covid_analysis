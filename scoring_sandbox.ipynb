{
 "cells": [
  {
   "cell_type": "markdown",
   "metadata": {},
   "source": [
    "# Trying to find a representation for the number of infections \n",
    "\n",
    "Most SIR compartmental models are conceptual frameworks to view the transmission of disease. Generally, without comprehensive testing, we will never know the true number of Infected individuals *I*— it's thereby a latent variable. I'm hoping to come up with a formulation for *I*\n",
    "\n",
    "$$I = \\lambda S I \\sim positives + population density+ contact + urban centers$$"
   ]
  },
  {
   "cell_type": "code",
   "execution_count": null,
   "metadata": {},
   "outputs": [],
   "source": []
  }
 ],
 "metadata": {
  "kernelspec": {
   "display_name": "Python 3.6.10 64-bit ('py3': conda)",
   "language": "python",
   "name": "python361064bitpy3conda88bcd62c95184c0ab81c752bb07ea13f"
  },
  "language_info": {
   "codemirror_mode": {
    "name": "ipython",
    "version": 3
   },
   "file_extension": ".py",
   "mimetype": "text/x-python",
   "name": "python",
   "nbconvert_exporter": "python",
   "pygments_lexer": "ipython3",
   "version": "3.6.10"
  }
 },
 "nbformat": 4,
 "nbformat_minor": 4
}
